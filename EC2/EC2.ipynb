{
 "cells": [
  {
   "cell_type": "markdown",
   "id": "690efb4b",
   "metadata": {},
   "source": [
    "# EC 2"
   ]
  },
  {
   "cell_type": "code",
   "execution_count": 2,
   "id": "fbeebc8d",
   "metadata": {},
   "outputs": [],
   "source": [
    "import pandas as pd\n",
    "import numpy as np"
   ]
  },
  {
   "cell_type": "code",
   "execution_count": 6,
   "id": "6fd5264f",
   "metadata": {},
   "outputs": [
    {
     "name": "stdout",
     "output_type": "stream",
     "text": [
      "Hola, ya terminé el EC2. Saludos. Carolina\n"
     ]
    }
   ],
   "source": [
    "nombre = \"Carolina\"\n",
    "print (\"Hola, ya terminé el EC2. Saludos. \" + nombre)"
   ]
  }
 ],
 "metadata": {
  "kernelspec": {
   "display_name": "Python 3",
   "language": "python",
   "name": "python3"
  },
  "language_info": {
   "codemirror_mode": {
    "name": "ipython",
    "version": 3
   },
   "file_extension": ".py",
   "mimetype": "text/x-python",
   "name": "python",
   "nbconvert_exporter": "python",
   "pygments_lexer": "ipython3",
   "version": "3.9.1"
  }
 },
 "nbformat": 4,
 "nbformat_minor": 5
}
